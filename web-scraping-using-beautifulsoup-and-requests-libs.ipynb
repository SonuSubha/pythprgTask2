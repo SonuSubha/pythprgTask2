{
 "cells": [
  {
   "cell_type": "code",
   "execution_count": 1,
   "metadata": {
    "execution": {
     "iopub.execute_input": "2020-10-15T19:37:04.009649Z",
     "iopub.status.busy": "2020-10-15T19:37:04.008706Z",
     "iopub.status.idle": "2020-10-15T19:37:04.310213Z",
     "shell.execute_reply": "2020-10-15T19:37:04.309376Z"
    },
    "id": "bQIL3UbWh3II",
    "papermill": {
     "duration": 0.331509,
     "end_time": "2020-10-15T19:37:04.310357",
     "exception": false,
     "start_time": "2020-10-15T19:37:03.978848",
     "status": "completed"
    },
    "tags": []
   },
   "outputs": [],
   "source": [
    "import requests\n",
    "from bs4 import BeautifulSoup"
   ]
  },
  {
   "cell_type": "markdown",
   "metadata": {
    "id": "E6GDKT8Gu-ov",
    "papermill": {
     "duration": 0.023348,
     "end_time": "2020-10-15T19:37:04.358125",
     "exception": false,
     "start_time": "2020-10-15T19:37:04.334777",
     "status": "completed"
    },
    "tags": []
   },
   "source": [
    "\n",
    "\n",
    "---\n",
    "\n"
   ]
  },
  {
   "cell_type": "code",
   "execution_count": 2,
   "metadata": {
    "execution": {
     "iopub.execute_input": "2020-10-15T19:37:04.507237Z",
     "iopub.status.busy": "2020-10-15T19:37:04.506258Z",
     "iopub.status.idle": "2020-10-15T19:37:04.509794Z",
     "shell.execute_reply": "2020-10-15T19:37:04.509031Z"
    },
    "id": "aadHoY69jEWI",
    "papermill": {
     "duration": 0.032349,
     "end_time": "2020-10-15T19:37:04.509930",
     "exception": false,
     "start_time": "2020-10-15T19:37:04.477581",
     "status": "completed"
    },
    "tags": []
   },
   "outputs": [],
   "source": [
    "url = 'https://www.ratemyprofessors.com/ShowRatings.jsp?tid=941931'"
   ]
  },
  {
   "cell_type": "markdown",
   "metadata": {
    "id": "B6-3kmHIu9nV",
    "papermill": {
     "duration": 0.023638,
     "end_time": "2020-10-15T19:37:04.557582",
     "exception": false,
     "start_time": "2020-10-15T19:37:04.533944",
     "status": "completed"
    },
    "tags": []
   },
   "source": [
    "\n",
    "\n",
    "---\n",
    "\n"
   ]
  },
  {
   "cell_type": "code",
   "execution_count": 3,
   "metadata": {
    "execution": {
     "iopub.execute_input": "2020-10-15T19:37:04.707766Z",
     "iopub.status.busy": "2020-10-15T19:37:04.706984Z",
     "iopub.status.idle": "2020-10-15T19:37:06.566380Z",
     "shell.execute_reply": "2020-10-15T19:37:06.565609Z"
    },
    "id": "r0wPh55bjJrp",
    "papermill": {
     "duration": 1.889536,
     "end_time": "2020-10-15T19:37:06.566541",
     "exception": false,
     "start_time": "2020-10-15T19:37:04.677005",
     "status": "completed"
    },
    "tags": []
   },
   "outputs": [],
   "source": [
    "page = requests.get(url)"
   ]
  },
  {
   "cell_type": "code",
   "execution_count": 4,
   "metadata": {
    "execution": {
     "iopub.execute_input": "2020-10-15T19:37:06.623506Z",
     "iopub.status.busy": "2020-10-15T19:37:06.622318Z",
     "iopub.status.idle": "2020-10-15T19:37:06.626496Z",
     "shell.execute_reply": "2020-10-15T19:37:06.627064Z"
    },
    "id": "yY1A4nnijnfT",
    "outputId": "0e696a12-81ab-4f85-ef26-2af358ab444f",
    "papermill": {
     "duration": 0.036078,
     "end_time": "2020-10-15T19:37:06.627216",
     "exception": false,
     "start_time": "2020-10-15T19:37:06.591138",
     "status": "completed"
    },
    "tags": []
   },
   "outputs": [
    {
     "data": {
      "text/plain": [
       "<Response [200]>"
      ]
     },
     "execution_count": 4,
     "metadata": {},
     "output_type": "execute_result"
    }
   ],
   "source": [
    "page"
   ]
  },
  {
   "cell_type": "markdown",
   "metadata": {
    "id": "MXK-919ku8h5",
    "papermill": {
     "duration": 0.024651,
     "end_time": "2020-10-15T19:37:06.677125",
     "exception": false,
     "start_time": "2020-10-15T19:37:06.652474",
     "status": "completed"
    },
    "tags": []
   },
   "source": [
    "\n",
    "\n",
    "---\n",
    "\n"
   ]
  },
  {
   "cell_type": "code",
   "execution_count": 5,
   "metadata": {
    "execution": {
     "iopub.execute_input": "2020-10-15T19:37:06.840233Z",
     "iopub.status.busy": "2020-10-15T19:37:06.835474Z",
     "iopub.status.idle": "2020-10-15T19:37:06.925492Z",
     "shell.execute_reply": "2020-10-15T19:37:06.926138Z"
    },
    "id": "B32OMv-4j1BJ",
    "papermill": {
     "duration": 0.124756,
     "end_time": "2020-10-15T19:37:06.926306",
     "exception": false,
     "start_time": "2020-10-15T19:37:06.801550",
     "status": "completed"
    },
    "tags": []
   },
   "outputs": [],
   "source": [
    "soup = BeautifulSoup(page.text, \"html.parser\")"
   ]
  },
  {
   "cell_type": "code",
   "execution_count": 6,
   "metadata": {
    "execution": {
     "iopub.execute_input": "2020-10-15T19:37:07.150716Z",
     "iopub.status.busy": "2020-10-15T19:37:07.142680Z",
     "iopub.status.idle": "2020-10-15T19:37:07.156211Z",
     "shell.execute_reply": "2020-10-15T19:37:07.155496Z"
    },
    "id": "mOZlRX52lyQK",
    "outputId": "59d32d6d-9122-43e7-ef0e-5d69da1222ce",
    "papermill": {
     "duration": 0.053198,
     "end_time": "2020-10-15T19:37:07.156335",
     "exception": false,
     "start_time": "2020-10-15T19:37:07.103137",
     "status": "completed"
    },
    "tags": []
   },
   "outputs": [
    {
     "data": {
      "text/plain": [
       "[<span class=\"Tag-bs9vf4-0 jqEvsD\">Tough grader</span>,\n",
       " <span class=\"Tag-bs9vf4-0 jqEvsD\">Lots of homework</span>,\n",
       " <span class=\"Tag-bs9vf4-0 jqEvsD\">Skip class? You won't pass.</span>,\n",
       " <span class=\"Tag-bs9vf4-0 jqEvsD\">Beware of pop quizzes</span>,\n",
       " <span class=\"Tag-bs9vf4-0 jqEvsD\">Caring</span>,\n",
       " <span class=\"Tag-bs9vf4-0 jqEvsD\">Skip class? You won't pass.</span>,\n",
       " <span class=\"Tag-bs9vf4-0 jqEvsD\">Test heavy</span>,\n",
       " <span class=\"Tag-bs9vf4-0 jqEvsD\">Tough grader</span>,\n",
       " <span class=\"Tag-bs9vf4-0 jqEvsD\">Respected</span>,\n",
       " <span class=\"Tag-bs9vf4-0 jqEvsD\">Skip class? You won't pass.</span>,\n",
       " <span class=\"Tag-bs9vf4-0 jqEvsD\">Caring</span>,\n",
       " <span class=\"Tag-bs9vf4-0 jqEvsD\">Respected</span>,\n",
       " <span class=\"Tag-bs9vf4-0 jqEvsD\">Hilarious</span>,\n",
       " <span class=\"Tag-bs9vf4-0 jqEvsD\">Amazing lectures</span>,\n",
       " <span class=\"Tag-bs9vf4-0 jqEvsD\">Respected</span>,\n",
       " <span class=\"Tag-bs9vf4-0 jqEvsD\">TEST HEAVY</span>,\n",
       " <span class=\"Tag-bs9vf4-0 jqEvsD\">Amazing lectures</span>,\n",
       " <span class=\"Tag-bs9vf4-0 jqEvsD\">Inspirational</span>,\n",
       " <span class=\"Tag-bs9vf4-0 jqEvsD\">Hilarious</span>,\n",
       " <span class=\"Tag-bs9vf4-0 jqEvsD\">Caring</span>,\n",
       " <span class=\"Tag-bs9vf4-0 jqEvsD\">Tough Grader</span>,\n",
       " <span class=\"Tag-bs9vf4-0 jqEvsD\">Skip class? You won't pass.</span>,\n",
       " <span class=\"Tag-bs9vf4-0 jqEvsD\">LOTS OF HOMEWORK</span>,\n",
       " <span class=\"Tag-bs9vf4-0 jqEvsD\">Tough Grader</span>,\n",
       " <span class=\"Tag-bs9vf4-0 jqEvsD\">Skip class? You won't pass.</span>,\n",
       " <span class=\"Tag-bs9vf4-0 jqEvsD\">LOTS OF HOMEWORK</span>,\n",
       " <span class=\"Tag-bs9vf4-0 jqEvsD\">Respected</span>,\n",
       " <span class=\"Tag-bs9vf4-0 jqEvsD\">Tough Grader</span>,\n",
       " <span class=\"Tag-bs9vf4-0 jqEvsD\">Skip class? You won't pass.</span>,\n",
       " <span class=\"Tag-bs9vf4-0 jqEvsD\">BEWARE OF POP QUIZZES</span>,\n",
       " <span class=\"Tag-bs9vf4-0 jqEvsD\">LOTS OF HOMEWORK</span>,\n",
       " <span class=\"Tag-bs9vf4-0 jqEvsD\">GROUP PROJECTS</span>,\n",
       " <span class=\"Tag-bs9vf4-0 jqEvsD\">Tough Grader</span>,\n",
       " <span class=\"Tag-bs9vf4-0 jqEvsD\">Skip class? You won't pass.</span>,\n",
       " <span class=\"Tag-bs9vf4-0 jqEvsD\">Caring</span>,\n",
       " <span class=\"Tag-bs9vf4-0 jqEvsD\">GRADED BY FEW THINGS</span>,\n",
       " <span class=\"Tag-bs9vf4-0 jqEvsD\">GROUP PROJECTS</span>,\n",
       " <span class=\"Tag-bs9vf4-0 jqEvsD\">LECTURE HEAVY</span>,\n",
       " <span class=\"Tag-bs9vf4-0 jqEvsD\">Skip class? You won't pass.</span>,\n",
       " <span class=\"Tag-bs9vf4-0 jqEvsD\">Caring</span>]"
      ]
     },
     "execution_count": 6,
     "metadata": {},
     "output_type": "execute_result"
    }
   ],
   "source": [
    "proftags = soup.findAll(\"span\", {\"class\": \"Tag-bs9vf4-0\" })\n",
    "proftags"
   ]
  },
  {
   "cell_type": "markdown",
   "metadata": {
    "id": "U2edHSXyu5z1",
    "papermill": {
     "duration": 0.025524,
     "end_time": "2020-10-15T19:37:07.208175",
     "exception": false,
     "start_time": "2020-10-15T19:37:07.182651",
     "status": "completed"
    },
    "tags": []
   },
   "source": [
    "\n",
    "\n",
    "---\n",
    "\n"
   ]
  },
  {
   "cell_type": "code",
   "execution_count": 7,
   "metadata": {
    "execution": {
     "iopub.execute_input": "2020-10-15T19:37:07.370702Z",
     "iopub.status.busy": "2020-10-15T19:37:07.369830Z",
     "iopub.status.idle": "2020-10-15T19:37:07.374225Z",
     "shell.execute_reply": "2020-10-15T19:37:07.375620Z"
    },
    "id": "m6xBHR-fmJAD",
    "outputId": "6ef8ce58-0113-4100-974f-a1c2bbc313e0",
    "papermill": {
     "duration": 0.038504,
     "end_time": "2020-10-15T19:37:07.375875",
     "exception": false,
     "start_time": "2020-10-15T19:37:07.337371",
     "status": "completed"
    },
    "tags": []
   },
   "outputs": [
    {
     "name": "stdout",
     "output_type": "stream",
     "text": [
      "Tough grader\n",
      "Lots of homework\n",
      "Skip class? You won't pass.\n",
      "Beware of pop quizzes\n",
      "Caring\n",
      "Skip class? You won't pass.\n",
      "Test heavy\n",
      "Tough grader\n",
      "Respected\n",
      "Skip class? You won't pass.\n",
      "Caring\n",
      "Respected\n",
      "Hilarious\n",
      "Amazing lectures\n",
      "Respected\n",
      "TEST HEAVY\n",
      "Amazing lectures\n",
      "Inspirational\n",
      "Hilarious\n",
      "Caring\n",
      "Tough Grader\n",
      "Skip class? You won't pass.\n",
      "LOTS OF HOMEWORK\n",
      "Tough Grader\n",
      "Skip class? You won't pass.\n",
      "LOTS OF HOMEWORK\n",
      "Respected\n",
      "Tough Grader\n",
      "Skip class? You won't pass.\n",
      "BEWARE OF POP QUIZZES\n",
      "LOTS OF HOMEWORK\n",
      "GROUP PROJECTS\n",
      "Tough Grader\n",
      "Skip class? You won't pass.\n",
      "Caring\n",
      "GRADED BY FEW THINGS\n",
      "GROUP PROJECTS\n",
      "LECTURE HEAVY\n",
      "Skip class? You won't pass.\n",
      "Caring\n"
     ]
    }
   ],
   "source": [
    "for mytag in proftags:\n",
    "    print(mytag.get_text())"
   ]
  },
  {
   "cell_type": "markdown",
   "metadata": {
    "id": "SVYBkYgbu4cm",
    "papermill": {
     "duration": 0.026002,
     "end_time": "2020-10-15T19:37:07.536397",
     "exception": false,
     "start_time": "2020-10-15T19:37:07.510395",
     "status": "completed"
    },
    "tags": []
   },
   "source": [
    "\n",
    "\n",
    "---\n",
    "\n"
   ]
  }
 ],
 "metadata": {
  "kernelspec": {
   "display_name": "Python 3",
   "language": "python",
   "name": "python3"
  },
  "language_info": {
   "codemirror_mode": {
    "name": "ipython",
    "version": 3
   },
   "file_extension": ".py",
   "mimetype": "text/x-python",
   "name": "python",
   "nbconvert_exporter": "python",
   "pygments_lexer": "ipython3",
   "version": "3.7.6"
  },
  "papermill": {
   "duration": 9.157395,
   "end_time": "2020-10-15T19:37:07.726745",
   "environment_variables": {},
   "exception": null,
   "input_path": "__notebook__.ipynb",
   "output_path": "__notebook__.ipynb",
   "parameters": {},
   "start_time": "2020-10-15T19:36:58.569350",
   "version": "2.1.0"
  }
 },
 "nbformat": 4,
 "nbformat_minor": 4
}
